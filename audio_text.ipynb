{
 "cells": [
  {
   "cell_type": "markdown",
   "id": "65c1fe60",
   "metadata": {},
   "source": [
    "# Get the content of the file in text format"
   ]
  },
  {
   "cell_type": "code",
   "execution_count": 1,
   "id": "2bc60628",
   "metadata": {},
   "outputs": [],
   "source": [
    "# importing libraries\n",
    "import speech_recognition as sr\n",
    "import os\n",
    "import re"
   ]
  },
  {
   "cell_type": "code",
   "execution_count": 2,
   "id": "05b59238",
   "metadata": {},
   "outputs": [],
   "source": [
    "filename = \"AI_Assignment.wav\""
   ]
  },
  {
   "cell_type": "code",
   "execution_count": 3,
   "id": "eae39f7f",
   "metadata": {},
   "outputs": [],
   "source": [
    "# initialize the recognizer\n",
    "r = sr.Recognizer()"
   ]
  },
  {
   "cell_type": "code",
   "execution_count": 4,
   "id": "2960171f",
   "metadata": {},
   "outputs": [
    {
     "name": "stdout",
     "output_type": "stream",
     "text": [
      "hi I have a flight at 7 a.m. from Delhi to Mumbai\n"
     ]
    }
   ],
   "source": [
    "# open the file\n",
    "with sr.AudioFile(filename) as source:\n",
    "    # listen for the data (load audio to memory)\n",
    "    audio_data = r.record(source)\n",
    "    # recognize (convert from speech to text)\n",
    "    text = r.recognize_google(audio_data)\n",
    "    print(text)"
   ]
  },
  {
   "cell_type": "markdown",
   "id": "e1f0d4ca",
   "metadata": {},
   "source": [
    "# Fetch the relevant entities and their respective values from the text."
   ]
  },
  {
   "cell_type": "code",
   "execution_count": 5,
   "id": "3673aa28",
   "metadata": {},
   "outputs": [
    {
     "data": {
      "text/plain": [
       "'hi I have a flight at 7 a.m. from Delhi to Mumbai'"
      ]
     },
     "execution_count": 5,
     "metadata": {},
     "output_type": "execute_result"
    }
   ],
   "source": [
    "text"
   ]
  },
  {
   "cell_type": "code",
   "execution_count": 6,
   "id": "93d98e30",
   "metadata": {},
   "outputs": [
    {
     "name": "stdout",
     "output_type": "stream",
     "text": [
      "Time is : 7 a.m.\n"
     ]
    }
   ],
   "source": [
    "print('Time is :',text[22:28] )"
   ]
  },
  {
   "cell_type": "code",
   "execution_count": 9,
   "id": "a04fb6df",
   "metadata": {},
   "outputs": [],
   "source": [
    "import nltk\n",
    "import spacy\n",
    "nlp = spacy.load(\"en_core_web_sm\")\n",
    "import locationtagger"
   ]
  },
  {
   "cell_type": "code",
   "execution_count": 10,
   "id": "a553e9da",
   "metadata": {},
   "outputs": [],
   "source": [
    "place_entity = locationtagger.find_locations(text = text )"
   ]
  },
  {
   "cell_type": "code",
   "execution_count": 11,
   "id": "21663f02",
   "metadata": {},
   "outputs": [
    {
     "name": "stdout",
     "output_type": "stream",
     "text": [
      "Departure location is: Mumbai\n"
     ]
    }
   ],
   "source": [
    "print('Departure location is:',place_entity.cities[0])\n"
   ]
  },
  {
   "cell_type": "code",
   "execution_count": 12,
   "id": "b81fa018",
   "metadata": {},
   "outputs": [
    {
     "name": "stdout",
     "output_type": "stream",
     "text": [
      "Destination location is:  Delhi\n"
     ]
    }
   ],
   "source": [
    "print('Destination location is: ',place_entity.cities[1])"
   ]
  },
  {
   "cell_type": "code",
   "execution_count": null,
   "id": "4c6b1ab8",
   "metadata": {},
   "outputs": [],
   "source": []
  },
  {
   "cell_type": "code",
   "execution_count": null,
   "id": "51b19391",
   "metadata": {},
   "outputs": [],
   "source": []
  },
  {
   "cell_type": "code",
   "execution_count": null,
   "id": "9e5b31f4",
   "metadata": {},
   "outputs": [],
   "source": []
  },
  {
   "cell_type": "code",
   "execution_count": null,
   "id": "4918c8dd",
   "metadata": {},
   "outputs": [],
   "source": []
  }
 ],
 "metadata": {
  "kernelspec": {
   "display_name": "Python 3",
   "language": "python",
   "name": "python3"
  },
  "language_info": {
   "codemirror_mode": {
    "name": "ipython",
    "version": 3
   },
   "file_extension": ".py",
   "mimetype": "text/x-python",
   "name": "python",
   "nbconvert_exporter": "python",
   "pygments_lexer": "ipython3",
   "version": "3.8.8"
  }
 },
 "nbformat": 4,
 "nbformat_minor": 5
}
